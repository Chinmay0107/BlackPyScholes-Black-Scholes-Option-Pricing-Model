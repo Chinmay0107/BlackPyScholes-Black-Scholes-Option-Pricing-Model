{
 "cells": [
  {
   "cell_type": "code",
   "execution_count": 1,
   "id": "0404c1be-6e3b-4c0e-8c70-a4ed38ba6b69",
   "metadata": {},
   "outputs": [],
   "source": [
    "import numpy as np\n",
    "import scipy as sp\n",
    "from scipy import stats\n",
    "from numpy import log, exp, sqrt\n",
    "import yfinance as yf"
   ]
  },
  {
   "cell_type": "code",
   "execution_count": 2,
   "id": "a94896ac-9124-4f26-9d30-735ed00a8de0",
   "metadata": {},
   "outputs": [
    {
     "name": "stderr",
     "output_type": "stream",
     "text": [
      "[*********************100%%**********************]  1 of 1 completed\n"
     ]
    }
   ],
   "source": [
    "ticker_symbol = \"AAPL\"\n",
    "start_date= \"2023-02-02\"\n",
    "end_date=\"2024-02-08\"\n",
    "stock_data = yf.download(ticker_symbol, start = start_date, end = end_date)\n",
    "adj_close_prices = stock_data[\"Adj Close\"]\n",
    "log_returns = np.log(adj_close_prices / adj_close_prices.shift(1))\n",
    "sigma = log_returns.std()\n",
    "#print(sigma)\n",
    "\n",
    "\n",
    "def call_option_price(Stock_price, Strike_price, Expiry, risk_free_rate, vol):\n",
    "    d1 = (log(Stock_price/Strike_price)+ (risk_free_rate + vol*vol/2 ) * Expiry)/(vol*sqrt(Expiry))\n",
    "    d2 = d1-vol*sqrt(Expiry)\n",
    "    \n",
    "    #use standarad normal distribution to calculate the price of the option N(x) \n",
    "    return Stock_price*stats.norm.cdf(d1)-Strike_price * exp(-risk_free_rate*Expiry) * stats.norm.cdf(d2)\n",
    "def put_option_price(Stock_price, Strike_price, Expiry, risk_free_rate, vol):\n",
    "    d1 = (log(Stock_price/Strike_price)+ (risk_free_rate + vol*vol/2 ) * Expiry)/(vol*sqrt(Expiry))\n",
    "    d2 = d1-vol*sqrt(Expiry)\n",
    "    \n",
    "    #use standarad normal distribution to calculate the price of the option N(x) \n",
    "    return -Stock_price*stats.norm.cdf(-d1)+Strike_price * exp(-risk_free_rate*Expiry) * stats.norm.cdf(-d2)"
   ]
  },
  {
   "cell_type": "code",
   "execution_count": 3,
   "id": "980ba327-704e-4428-b88f-9028c000d683",
   "metadata": {},
   "outputs": [
    {
     "name": "stdout",
     "output_type": "stream",
     "text": [
      "Call option price according to Black Scholes Model: 0.0\n",
      "Put option price according to Black Scholes Model: 25.575274476907225\n"
     ]
    }
   ],
   "source": [
    "if __name__ == \"__main__\":\n",
    "    Stock_price = 189.41\n",
    "    Strike_price = 215\n",
    "    # expiry 1 = 1year = 365 days, basically expiry should be in years\n",
    "    Expiry = 1/365\n",
    "    risk_free_rate = 0.025\n",
    "    vol = sigma\n",
    "\n",
    "    print(\"Call option price according to Black Scholes Model:\", \n",
    "         call_option_price(Stock_price, Strike_price, Expiry, risk_free_rate,vol))\n",
    "    print(\"Put option price according to Black Scholes Model:\", \n",
    "         put_option_price(Stock_price, Strike_price, Expiry, risk_free_rate, vol))"
   ]
  },
  {
   "cell_type": "code",
   "execution_count": null,
   "id": "7ea904ab-bf8f-462b-8072-66dca8db651f",
   "metadata": {},
   "outputs": [],
   "source": []
  }
 ],
 "metadata": {
  "kernelspec": {
   "display_name": "Python 3 (ipykernel)",
   "language": "python",
   "name": "python3"
  },
  "language_info": {
   "codemirror_mode": {
    "name": "ipython",
    "version": 3
   },
   "file_extension": ".py",
   "mimetype": "text/x-python",
   "name": "python",
   "nbconvert_exporter": "python",
   "pygments_lexer": "ipython3",
   "version": "3.11.5"
  }
 },
 "nbformat": 4,
 "nbformat_minor": 5
}
